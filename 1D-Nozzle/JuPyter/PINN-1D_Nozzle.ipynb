{
 "cells": [
  {
   "cell_type": "markdown",
   "metadata": {},
   "source": [
    "# **Physics Informed Neural Network (PINN) in Tensorflow**\n",
    "## This file is a brief documentation of the Python code."
   ]
  },
  {
   "cell_type": "markdown",
   "metadata": {},
   "source": [
    "The following cells will demonstrate how the tensorflow code works via a dry run through small snippets of code in sequence."
   ]
  },
  {
   "cell_type": "markdown",
   "metadata": {},
   "source": [
    "### The first snippet stands for *importing all necessary libraries..*"
   ]
  },
  {
   "cell_type": "code",
   "execution_count": 1,
   "metadata": {},
   "outputs": [
    {
     "name": "stdout",
     "output_type": "stream",
     "text": [
      "3.6.7 (default, Oct 22 2018, 11:32:17) \n",
      "[GCC 8.2.0]\n"
     ]
    }
   ],
   "source": [
    "import sys\n",
    "sys.path.insert(0, '../../Utilities/')\n",
    "print(sys.version)\n",
    "import tensorflow as tf\n",
    "import numpy as np\n",
    "import matplotlib.pyplot as plt\n",
    "import scipy.io\n",
    "from scipy.interpolate import griddata\n",
    "import time\n",
    "from itertools import product, combinations\n",
    "from mpl_toolkits.mplot3d import Axes3D\n",
    "from mpl_toolkits.mplot3d.art3d import Poly3DCollection\n",
    "#from plotting import newfig, savefig\n",
    "from mpl_toolkits.axes_grid1 import make_axes_locatable\n",
    "import matplotlib.gridspec as gridspec"
   ]
  },
  {
   "cell_type": "markdown",
   "metadata": {},
   "source": [
    "Note that there are 2 important data handling and numerical calculation libraries: **numpy** and **scipy** alongside tensorflow. *Matplotlib* is necessary to plot and visualize data."
   ]
  },
  {
   "cell_type": "markdown",
   "metadata": {},
   "source": [
    "Then we plant tensorflow random seed for initialization."
   ]
  },
  {
   "cell_type": "code",
   "execution_count": 2,
   "metadata": {},
   "outputs": [],
   "source": [
    "np.random.seed(1234)\n",
    "tf.set_random_seed(1234)"
   ]
  },
  {
   "cell_type": "markdown",
   "metadata": {},
   "source": [
    "## Now we *Define the Class* where we are going to use PINNs:"
   ]
  },
  {
   "cell_type": "code",
   "execution_count": 3,
   "metadata": {},
   "outputs": [],
   "source": [
    "class PINN:\n",
    "    # Initialize the class\n",
    "    def __init__(self, P_back, x, P, rho, u, E, layers):\n",
    "        \n",
    "        # Create Input Matrix for the given training data point\n",
    "        X = np.concatenate([P_back, x], 1)\n",
    "        \n",
    "        # min & max for normalization\n",
    "        self.lb = X.min(0)\n",
    "        self.ub = X.max(0)\n",
    "        \n",
    "        # class attribute definitions\n",
    "        self.X = X\n",
    "        self.P_back = P_back\n",
    "        self.x = x\n",
    "        self.P = P\n",
    "        self.rho = rho\n",
    "        self.u = u\n",
    "        self.E = E\n",
    "    \n",
    "        self.layers = layers\n",
    "        \n",
    "        # Initialize NN\n",
    "        self.weights, self.biases = self.initialize_NN(layers)        \n",
    "        \n",
    "        # tf placeholders and graph\n",
    "        self.sess = tf.Session(config=tf.ConfigProto(allow_soft_placement=True,\n",
    "                                                     log_device_placement=True))\n",
    "        \n",
    "        # define tensors for each variable using tf.placeholder\n",
    "        self.P_back_tf = tf.placeholder(tf.float32, shape=[None, self.P_back.shape[1]])\n",
    "        self.x_tf = tf.placeholder(tf.float32, shape=[None, self.x.shape[1]])\n",
    "        self.P_tf = tf.placeholder(tf.float32, shape=[None, self.P.shape[1]])\n",
    "        self.rho_tf = tf.placeholder(tf.float32, shape=[None, self.rho.shape[1]])\n",
    "        self.u_tf = tf.placeholder(tf.float32, shape=[None, self.u.shape[1]])\n",
    "        self.E_tf = tf.placeholder(tf.float32, shape=[None, self.E.shape[1]])\n",
    "        \n",
    "        # Predict the values of output by a single forward propagation\n",
    "        # Also get AutoDiff coefficients from the same class method: net_NS\n",
    "        self.P_pred, self.rho_pred, self.u_pred, self.E_pred, self.e1, self.e2, self.e3 = self.net_NS(self.P_back_tf, self.x_tf)\n",
    "        # e1 is continuity residual, e2 is momentum residual and e3 is the energy equation residual\n",
    "        \n",
    "        # MSE Normalization\n",
    "        P_norm = np.amax(P)\n",
    "        rho_norm = np.amax(rho)\n",
    "        u_norm = np.amax(u)\n",
    "        E_norm = np.amax(E)\n",
    "        S_norm = 5.95\n",
    "        e1_norm = rho_norm*u_norm*S_norm\n",
    "        e2_norm = P_norm*S_norm\n",
    "        e3_norm = E_norm*rho_norm*u_norm*S_norm\n",
    "        \n",
    "        # Define Cost function or the Loss\n",
    "        self.loss = tf.reduce_sum(tf.square(self.P_tf - self.P_pred))/(P_norm**2) + \\\n",
    "                    tf.reduce_sum(tf.square(self.rho_tf - self.rho_pred))/(rho_norm**2) + \\\n",
    "                    tf.reduce_sum(tf.square(self.u_tf - self.u_pred))/(u_norm**2) + \\\n",
    "                    tf.reduce_sum(tf.square(self.E_tf - self.E_pred))/(E_norm**2) + \\\n",
    "                    tf.reduce_sum(tf.square(self.e2))/(e2_norm**2) + \\\n",
    "                    tf.reduce_sum(tf.square(self.e3))/(e3_norm**2) + \\\n",
    "                    tf.reduce_sum(tf.square(self.e1))/(e1_norm**2)\n",
    "        \n",
    "        # Define optimizers\n",
    "        self.optimizer = tf.contrib.opt.ScipyOptimizerInterface(self.loss, \n",
    "                                                                method = 'L-BFGS-B', \n",
    "                                                                options = {'maxiter': 15000,\n",
    "                                                                           'maxfun': 15000,\n",
    "                                                                           'maxcor': 50,\n",
    "                                                                           'maxls': 50,\n",
    "                                                                           'ftol' : 1.0 * np.finfo(float).eps})        \n",
    "        \n",
    "        # Adam\n",
    "        self.optimizer_Adam = tf.train.AdamOptimizer()\n",
    "        self.train_op_Adam = self.optimizer_Adam.minimize(self.loss)\n",
    "        \n",
    "        # Run the session after variable initialization\n",
    "        init = tf.global_variables_initializer()\n",
    "        self.sess.run(init)\n",
    "        \n",
    "        ######### Class Methods ########\n",
    "        \n",
    "    def initialize_NN(self, layers):        \n",
    "        weights = []\n",
    "        biases = []\n",
    "        num_layers = len(layers) \n",
    "        for l in range(0,num_layers-1):\n",
    "            W = self.xavier_init(size=[layers[l], layers[l+1]])\n",
    "            b = tf.Variable(tf.zeros([1,layers[l+1]], dtype=tf.float32), dtype=tf.float32)\n",
    "            weights.append(W)\n",
    "            biases.append(b)        \n",
    "        return weights, biases\n",
    "        \n",
    "    def neural_net(self, X, weights, biases):\n",
    "        num_layers = len(weights) + 1\n",
    "        \n",
    "        H = 2.0*(X - self.lb)/(self.ub - self.lb) - 1.0\n",
    "        for l in range(0,num_layers-2):\n",
    "            W = weights[l]\n",
    "            b = biases[l]\n",
    "            H = tf.tanh(tf.add(tf.matmul(H, W), b))\n",
    "        W = weights[-1]\n",
    "        b = biases[-1]\n",
    "        Y = tf.add(tf.matmul(H, W), b)\n",
    "        return Y\n",
    "\n",
    "    def xavier_init(self, size):\n",
    "        in_dim = size[0]\n",
    "        out_dim = size[1]        \n",
    "        xavier_stddev = np.sqrt(2/(in_dim + out_dim))\n",
    "        return tf.Variable(tf.truncated_normal([in_dim, out_dim], stddev=xavier_stddev), dtype=tf.float32)\n",
    "    \n",
    "    def neural_net(self, X, weights, biases):\n",
    "        num_layers = len(weights) + 1\n",
    "        \n",
    "        H = 2.0*(X - self.lb)/(self.ub - self.lb) - 1.0\n",
    "        for l in range(0,num_layers-2):\n",
    "            W = weights[l]\n",
    "            b = biases[l]\n",
    "            H = tf.tanh(tf.add(tf.matmul(H, W), b))\n",
    "        W = weights[-1]\n",
    "        b = biases[-1]\n",
    "        Y = tf.add(tf.matmul(H, W), b)\n",
    "        return Y\n",
    "\n",
    "    def net_NS(self, P_back, x):\n",
    "        P_rho_u_E = self.neural_net(tf.concat([P_back, x], 1), self.weights, self.biases)\n",
    "        P = P_rho_u_E[:,0:1]\n",
    "        rho = P_rho_u_E[:,1:2]\n",
    "        u = P_rho_u_E[:,2:3]\n",
    "        E = P_rho_u_E[:,3:4]\n",
    "\n",
    "        S = 1 + 2.2*((x-5)**2)*9/10000\n",
    "        # autodiff gradient #1\n",
    "        mass_flow_grad = tf.gradients(tf.multiply(tf.multiply(u, rho), S), x)[0]\n",
    "        # autodiff gradient #2\n",
    "        momentum_grad = tf.add(tf.gradients(tf.multiply(tf.add(tf.multiply(tf.multiply(u, u), rho), P), S), x)[0], tf.multiply(tf.gradients(S, x)[0], P))\n",
    "        # autodiff gradient #3\n",
    "        energy_grad = tf.gradients(tf.multiply(tf.multiply(tf.add(tf.multiply(E, rho), P), u), S), x)[0]\n",
    "\n",
    "        return P, rho, u, E, mass_flow_grad, momentum_grad, energy_grad\n",
    "\n",
    "    \n",
    "    def callback(self, loss):\n",
    "        print('Loss: %.3e' % (loss))\n",
    "      \n",
    "    def train(self, nIter): \n",
    "\n",
    "        tf_dict = {self.P_back_tf: self.P_back, self.x_tf: self.x,\n",
    "                    self.P_tf: self.P, self.rho_tf: self.rho, self.u_tf: self.u, self.E_tf: self.E\n",
    "                    }\n",
    "        \n",
    "        start_time = time.time()\n",
    "        for it in range(nIter):\n",
    "            self.sess.run(self.train_op_Adam, tf_dict)\n",
    "            \n",
    "            # Print\n",
    "            if it % 1000 == 0:\n",
    "                elapsed = time.time() - start_time\n",
    "                loss_value = self.sess.run(self.loss, tf_dict)\n",
    "                \n",
    "                print('Iter: %d, Loss: %.3e, Time: %.2f' % \n",
    "                      (it, loss_value, elapsed))\n",
    "                start_time = time.time()\n",
    "\n",
    "                #The following is external optimizer. Uncomment it to see in action. It runs indefinitely till convergence...\n",
    "\n",
    "#        self.optimizer.minimize(self.sess,\n",
    "#                                feed_dict = tf_dict,\n",
    "#                                fetches = [self.loss],\n",
    "#                                loss_callback = self.callback)\n",
    "        \n",
    "    def predict(self, P_back_test, x_test):\n",
    "        tf_dict = {self.P_back_tf: P_back_test, self.x_tf: x_test}\n",
    "        P_test = self.sess.run(self.P_pred, tf_dict)\n",
    "        rho_test = self.sess.run(self.rho_pred, tf_dict)\n",
    "        u_test = self.sess.run(self.u_pred, tf_dict)\n",
    "        E_test = self.sess.run(self.E_pred, tf_dict)\n",
    "        return P_test, rho_test, u_test, E_test"
   ]
  },
  {
   "cell_type": "markdown",
   "metadata": {},
   "source": [
    "The class **PINN** is initialized by using the standard *__init__* function from object oriented python. There are a total of 7 variables fed to initialize:\n",
    "\n",
    "**Inputs:** <br>**P_back** (back pressure),<br> __x__ (distance varying from 1 to 100 through the 1D nozzle length)\n",
    "\n",
    "__Outputs__: <br>**P** (pressure at x),<br> __rho__ (density at x),<br>__u (speed at x),<br>__E (specific energy at x),<br> __layers__ (layers vector).\n",
    "\n",
    "We are providing **P-back** and x as inputs to the Neural network and output is P, rho, **u**, __E__ at that point in the nozzle for the given value of back pressure.\n",
    "\n",
    "__X__ is the net input matrix which is formed by concatenating **P_back** and **x** for the training data point. Additional '1' is concatenated for incorporating bias terms.\n",
    "\n",
    "**lb** and **ub** are the lower and upper bound respectively of X which would be later used to normalize the value of X before passing it onto the neural network. This is done to avoid explosion of network output values due to large training data values of X.\n",
    "\n",
    "Standard object oriented class attribute definitions follow as self.variableName = variable_Name.\n",
    "\n",
    "**layers** is a vector of all the #node in each of the neural network layers. It could be, in this case, *for example\n",
    "layers = [2, 10, 20, 15, 4]*.\n",
    "First value, '2' respresents the input layer with 2 parameters while last value '4' is the number of outputs desired."
   ]
  },
  {
   "cell_type": "markdown",
   "metadata": {},
   "source": [
    "### Initialization of network and define tensorial variables:"
   ]
  },
  {
   "cell_type": "code",
   "execution_count": 4,
   "metadata": {},
   "outputs": [],
   "source": [
    "#          self.weights, self.biases = self.initialize_NN(layers)        \n",
    "        \n",
    "#          self.sess = tf.Session(config=tf.ConfigProto(allow_soft_placement=True,\n",
    "#                                                       log_device_placement=True))\n",
    "        \n",
    "#          self.P_back_tf = tf.placeholder(tf.float32, shape=[None, self.P_back.shape[1]])\n",
    "#          self.x_tf = tf.placeholder(tf.float32, shape=[None, self.x.shape[1]])\n",
    "#          self.P_tf = tf.placeholder(tf.float32, shape=[None, self.P.shape[1]])\n",
    "#          self.rho_tf = tf.placeholder(tf.float32, shape=[None, self.rho.shape[1]])\n",
    "#          self.u_tf = tf.placeholder(tf.float32, shape=[None, self.u.shape[1]])\n",
    "#          self.E_tf = tf.placeholder(tf.float32, shape=[None, self.E.shape[1]])"
   ]
  },
  {
   "cell_type": "markdown",
   "metadata": {},
   "source": [
    "**initialize_PINN** is another class method defined later, which is used to assign random weights and bias terms to the network. This not only initializes the network but also structures the sizes and values of all the weights and biases that would be so required for the network defined by **layers**.\n",
    "\n",
    "Define a session to run.\n",
    "\n",
    "Respective tensors are defined as *variableName_tf* by using **tf.placeholder** function, shape similar to their numpy counterparts *variable_Name*."
   ]
  },
  {
   "cell_type": "markdown",
   "metadata": {},
   "source": [
    "### Find outputs via forward propogation and allot the values to class attributes. Also the autodiff residuals:"
   ]
  },
  {
   "cell_type": "code",
   "execution_count": 5,
   "metadata": {},
   "outputs": [],
   "source": [
    "#         self.P_pred, self.rho_pred, self.u_pred, self.E_pred, self.e1, self.e2, self.e3 = self.net_NS(self.P_back_tf, self.x_tf)"
   ]
  },
  {
   "cell_type": "markdown",
   "metadata": {},
   "source": [
    "Next, we use a custom made function **net_NS** for 2 puposes:\n",
    "1. Forward propogation of passed inputs through the network to determine the ouput\n",
    "2. Evaluate the PINN error terms using autodiff\n",
    "More details of the method will follow later to its definition."
   ]
  },
  {
   "cell_type": "markdown",
   "metadata": {},
   "source": [
    "### Cost function expression:"
   ]
  },
  {
   "cell_type": "code",
   "execution_count": 6,
   "metadata": {},
   "outputs": [],
   "source": [
    "#         # MSE Normalization\n",
    "#         P_norm = np.amax(P)\n",
    "#         rho_norm = np.amax(rho)\n",
    "#         u_norm = np.amax(u)\n",
    "#         E_norm = np.amax(E)\n",
    "#         S_norm = 5.95\n",
    "#         e1_norm = rho_norm*u_norm*S_norm\n",
    "#         e2_norm = P_norm*S_norm\n",
    "#         e3_norm = E_norm*rho_norm*u_norm*S_norm\n",
    "        \n",
    "#         # Define Cost function or the Loss\n",
    "#         self.loss = tf.reduce_sum(tf.square(self.P_tf - self.P_pred))/(P_norm**2) + \\\n",
    "#                     tf.reduce_sum(tf.square(self.rho_tf - self.rho_pred))/(rho_norm**2) + \\\n",
    "#                     tf.reduce_sum(tf.square(self.u_tf - self.u_pred))/(u_norm**2) + \\\n",
    "#                     tf.reduce_sum(tf.square(self.E_tf - self.E_pred))/(E_norm**2) + \\\n",
    "#                     tf.reduce_sum(tf.square(self.e2))/(e2_norm**2) + \\\n",
    "#                     tf.reduce_sum(tf.square(self.e3))/(e3_norm**2) + \\\n",
    "#                     tf.reduce_sum(tf.square(self.e1))/(e1_norm**2)"
   ]
  },
  {
   "cell_type": "markdown",
   "metadata": {},
   "source": [
    "Define what **'loss' (cost function)** means to our problem. In this case I have set the mean squared error of the ouputs to be the loss and commented the PINN residual arguements. *Uncommenting the 3 residual expressions will result in a true Phyics Informed Neural Network, otherwise, it is just a data trained Neural network.*\n",
    "\n",
    "The initial **normalization** terms are necessary to introduce so as to ensure that the gradients don't get driven towards either the residual aquared errors or the MSE of the outputs. Basically, to ensure equal weightage to it being 'trained to training data' as well as being 'Physics informed'."
   ]
  },
  {
   "cell_type": "markdown",
   "metadata": {},
   "source": [
    "### Define Optimizers:"
   ]
  },
  {
   "cell_type": "code",
   "execution_count": 7,
   "metadata": {},
   "outputs": [],
   "source": [
    "#         self.optimizer = tf.contrib.opt.ScipyOptimizerInterface(self.loss, \n",
    "#                                                                 method = 'L-BFGS-B', \n",
    "#                                                                 options = {'maxiter': 15000,\n",
    "#                                                                            'maxfun': 15000,\n",
    "#                                                                            'maxcor': 50,\n",
    "#                                                                            'maxls': 50,\n",
    "#                                                                            'ftol' : 1.0 * np.finfo(float).eps})        \n",
    "        \n",
    "#         self.optimizer_Adam = tf.train.AdamOptimizer()\n",
    "#         self.train_op_Adam = self.optimizer_Adam.minimize(self.loss)"
   ]
  },
  {
   "cell_type": "markdown",
   "metadata": {},
   "source": [
    "Define optimizers: there are 2 optimizers used: external by Scipy (L-BFGS-B) and internal by Tensorflow (which is Adam). The external optimizer gives an extra push after the internal has done its job. No need to change the default options of the optimizers. We have used **Adam** optimizer in this case, since, it is the most common and generally the **fastest** known converger."
   ]
  },
  {
   "cell_type": "code",
   "execution_count": 8,
   "metadata": {},
   "outputs": [],
   "source": [
    "#         init = tf.global_variables_initializer()\n",
    "#         self.sess.run(init)"
   ]
  },
  {
   "cell_type": "markdown",
   "metadata": {},
   "source": [
    "Finally, initialize all the variables in global scope and run the defines session."
   ]
  },
  {
   "cell_type": "markdown",
   "metadata": {},
   "source": [
    "## Now, let us define the class methods:"
   ]
  },
  {
   "cell_type": "markdown",
   "metadata": {},
   "source": [
    "### 'initialize_NN' and 'xavier_init' to _Initialize the network_:"
   ]
  },
  {
   "cell_type": "code",
   "execution_count": 9,
   "metadata": {},
   "outputs": [],
   "source": [
    "%%capture\n",
    "    def initialize_NN(self, layers):        \n",
    "        weights = []\n",
    "        biases = []\n",
    "        num_layers = len(layers) \n",
    "        for l in range(0,num_layers-1):\n",
    "            W = self.xavier_init(size=[layers[l], layers[l+1]])\n",
    "            b = tf.Variable(tf.zeros([1,layers[l+1]], dtype=tf.float32), dtype=tf.float32)\n",
    "            weights.append(W)\n",
    "            biases.append(b)        \n",
    "        return weights, biases\n",
    "\n",
    "\n",
    "\n",
    "    def xavier_init(self, size):\n",
    "        in_dim = size[0]\n",
    "        out_dim = size[1]        \n",
    "        xavier_stddev = np.sqrt(2/(in_dim + out_dim))\n",
    "        return tf.Variable(tf.truncated_normal([in_dim, out_dim], stddev=xavier_stddev), dtype=tf.float32)"
   ]
  },
  {
   "cell_type": "markdown",
   "metadata": {},
   "source": [
    "These are basic initialization functions to create the weigths and biases tensor variables and assign random values to start with. The code snippet iterates over the **layers** vector to generate the tensors as stated."
   ]
  },
  {
   "cell_type": "markdown",
   "metadata": {},
   "source": [
    "### 'neural_net' for _Forward Propagation_:"
   ]
  },
  {
   "cell_type": "code",
   "execution_count": 10,
   "metadata": {},
   "outputs": [],
   "source": [
    "%%capture\n",
    "    def neural_net(self, X, weights, biases):\n",
    "        num_layers = len(weights) + 1\n",
    "        \n",
    "        H = 2.0*(X - self.lb)/(self.ub - self.lb) - 1.0\n",
    "        for l in range(0,num_layers-2):\n",
    "            W = weights[l]\n",
    "            b = biases[l]\n",
    "            H = tf.tanh(tf.add(tf.matmul(H, W), b))\n",
    "        W = weights[-1]\n",
    "        b = biases[-1]\n",
    "        Y = tf.add(tf.matmul(H, W), b)\n",
    "        return Y"
   ]
  },
  {
   "cell_type": "markdown",
   "metadata": {},
   "source": [
    "Code for a single forward propagation pass taking in __weights__, __biases__ and input matrix **X**.\n",
    "\n",
    "Note the normalization step on **X** as __H__ before passing on to the network."
   ]
  },
  {
   "cell_type": "markdown",
   "metadata": {},
   "source": [
    "### 'net_NS' for<br> a) *returning the output values after one forward propagation* <br>b) _Generating e1, e2 and e3: error terms (residuals) of Steady 1D Nozzle equations_ by autodiff:"
   ]
  },
  {
   "cell_type": "code",
   "execution_count": 11,
   "metadata": {},
   "outputs": [],
   "source": [
    "%%capture    \n",
    "    def net_NS(self, P_back, x):\n",
    "        P_rho_u_E = self.neural_net(tf.concat([P_back, x], 1), self.weights, self.biases)\n",
    "        P = P_rho_u_E[:,0:1]\n",
    "        rho = P_rho_u_E[:,1:2]\n",
    "        u = P_rho_u_E[:,2:3]\n",
    "        E = P_rho_u_E[:,3:4]\n",
    "\n",
    "        S = 1 + 2.2*((x-5)**2)*9/10000\n",
    "\n",
    "        mass_flow_grad = tf.gradients(tf.multiply(tf.multiply(u, rho), S), x)[0]\n",
    "\n",
    "        momentum_grad = tf.add(tf.gradients(tf.multiply(tf.add(tf.multiply(tf.multiply(u, u), rho), P), S), x)[0], tf.multiply(tf.gradients(S, x)[0], P))\n",
    "\n",
    "        energy_grad = tf.gradients(tf.multiply(tf.multiply(tf.add(tf.multiply(E, rho), P), u), S), x)[0]\n",
    "\n",
    "        return P, rho, u, E, mass_flow_grad, momentum_grad, energy_grad"
   ]
  },
  {
   "cell_type": "markdown",
   "metadata": {},
   "source": [
    "Above is **the differentiating** code snippet which does the Automatic Differential method to find the coefficients of the necessary gradients (or equivalently, residuals) to be used in the MSE (mean squared error) in the cost function.\n",
    "\n",
    "The very step is to reference the earlier function *neural_net* and gain the outputs as a matrix. The matrix is then sliced into individual components to get pressure, density, speed and specific energy.\n",
    "\n",
    "We define the cross section area contour S to be used in the following Physical expressions of 1D Nozzle flow. The trend is directly used from the question definition.\n",
    "\n",
    "Next we find the residuals by AutoDiff. The autodiff function provided by Tensorflow is **'tf.gradients'** as above. The mass_flow_grad, momentum_grad and energy_grad are actually the residuals of the three Compressible Physical expressions.\n",
    "\n",
    "Return all the variables back to the class attributes."
   ]
  },
  {
   "cell_type": "markdown",
   "metadata": {},
   "source": [
    "### 'callback' for printing loss value and 'train' to *train the network*:"
   ]
  },
  {
   "cell_type": "code",
   "execution_count": 12,
   "metadata": {},
   "outputs": [],
   "source": [
    "%%capture    \n",
    "    def callback(self, loss):\n",
    "        print('Loss: %.3e' % (loss))\n",
    "\n",
    "\n",
    "\n",
    "\n",
    "    def train(self, nIter): \n",
    "\n",
    "        tf_dict = {self.P_back_tf: self.P_back, self.x_tf: self.x,\n",
    "                    self.P_tf: self.P, self.rho_tf: self.rho, self.u_tf: self.u, self.E_tf: self.E\n",
    "                    }\n",
    "        \n",
    "        start_time = time.time()\n",
    "        for it in range(nIter):\n",
    "            self.sess.run(self.train_op_Adam, tf_dict)\n",
    "            \n",
    "            # Print\n",
    "            if it % 1000 == 0:\n",
    "                elapsed = time.time() - start_time\n",
    "                loss_value = self.sess.run(self.loss, tf_dict)\n",
    "                \n",
    "                print('Iter: %d, Loss: %.3e, Time: %.2f' % \n",
    "                      (it, loss_value, elapsed))\n",
    "                start_time = time.time()\n",
    "            \n",
    "        #self.optimizer.minimize(self.sess,\n",
    "        #                        feed_dict = tf_dict,\n",
    "        #                        fetches = [self.loss],\n",
    "        #                        loss_callback = self.callback)"
   ]
  },
  {
   "cell_type": "markdown",
   "metadata": {},
   "source": [
    "callback method just prints the current loss (cost) value of the network.\n",
    "\n",
    "train method actually trains the network weights based on the target of minimizing the loss. **tf_dict** is defined as the set of input and ideal output parameters for the given data in loop. For the given iterations 'nIter' (variable), the __train_op_Adam__ session is run.\n",
    "\n",
    "Even after the iterations are finished, the optimizer continues to minimize the loss as compelled to by the statement **self.optimizer.minimize**, passing tf_dict to the loss expression defined as an attribute earlier in the class."
   ]
  },
  {
   "cell_type": "markdown",
   "metadata": {},
   "source": [
    "### 'predict' method to predict outputs (perform forward pass) on test input data:"
   ]
  },
  {
   "cell_type": "code",
   "execution_count": 13,
   "metadata": {},
   "outputs": [],
   "source": [
    "%%capture\n",
    "    def predict(self, P_back_test, x_test):\n",
    "        tf_dict = {self.P_back_tf: P_back_test, self.x_tf: x_test}\n",
    "        P_test = self.sess.run(self.P_pred, tf_dict)\n",
    "        rho_test = self.sess.run(self.rho_pred, tf_dict)\n",
    "        u_test = self.sess.run(self.u_pred, tf_dict)\n",
    "        E_test = self.sess.run(self.E_pred, tf_dict)\n",
    "        return P_test, rho_test, u_test, E_test"
   ]
  },
  {
   "cell_type": "markdown",
   "metadata": {},
   "source": [
    "**predict** method is used to predict the output values when test data is passed into the netowrk after the training is completed. All the values are returned to the call."
   ]
  },
  {
   "cell_type": "markdown",
   "metadata": {},
   "source": [
    "## Class definitions done. Now actual Code begins.."
   ]
  },
  {
   "cell_type": "markdown",
   "metadata": {},
   "source": [
    "### input *layer* vector in the 'main':"
   ]
  },
  {
   "cell_type": "code",
   "execution_count": 14,
   "metadata": {},
   "outputs": [],
   "source": [
    "if __name__ == \"__main__\":\n",
    "    \n",
    "    # Neural Network Architecture\n",
    "    layers = [2, 10, 20, 15, 4]"
   ]
  },
  {
   "cell_type": "markdown",
   "metadata": {},
   "source": [
    "main function, inside which are the training and testing commands.\n",
    "\n",
    "Change the layer vector and the entire network structure changes. This is the list **representing out Neural net architecture** with first and last being the number of input and output parameters respectively."
   ]
  },
  {
   "cell_type": "markdown",
   "metadata": {},
   "source": [
    "### Load the data file and slice the training data:"
   ]
  },
  {
   "cell_type": "code",
   "execution_count": 15,
   "metadata": {},
   "outputs": [],
   "source": [
    "    # Load Data\n",
    "    data = np.loadtxt('cdnozzle.txt')\n",
    "\n",
    "    N_train = int(0.85*data.shape[0])\n",
    "    \n",
    "    A = np.random.choice(range(data.shape[0]), size=(N_train,), replace=False)\n",
    "\n",
    "    # x\n",
    "    P_back_train = data[A,1:2].flatten()[:,None]\n",
    "    x_train = data[A,0:1].flatten()[:,None]\n",
    "    # y\n",
    "    P_train = data[A,2:3].flatten()[:,None]\n",
    "    rho_train = data[A,6:7].flatten()[:,None]\n",
    "    u_train = data[A,7:8].flatten()[:,None]\n",
    "    E_train = data[A,8:9].flatten()[:,None]"
   ]
  },
  {
   "cell_type": "markdown",
   "metadata": {},
   "source": [
    "The C generated data was stored in file name **'cdnozzle.txt'**, which is read by ___numpy___ and stored as a new variable by name data.\n",
    "\n",
    "The training set length *N_train* is taken to be 85% of the entire dataset. The rest 15% will be used as test set to validate the result of the training.\n",
    "\n",
    "A is a random numbers vector, which will be used to randomly pick 85% of the data from the dataset.\n",
    "\n",
    "The rest is mere slicing of dataset to get all required parameters."
   ]
  },
  {
   "cell_type": "markdown",
   "metadata": {},
   "source": [
    "### Train the Neural Network based on the training set, randomly chosen above:"
   ]
  },
  {
   "cell_type": "code",
   "execution_count": 16,
   "metadata": {},
   "outputs": [
    {
     "name": "stdout",
     "output_type": "stream",
     "text": [
      "WARNING:tensorflow:From /home/user/.local/lib/python3.6/site-packages/tensorflow/python/framework/op_def_library.py:263: colocate_with (from tensorflow.python.framework.ops) is deprecated and will be removed in a future version.\n",
      "Instructions for updating:\n",
      "Colocations handled automatically by placer.\n",
      "\n",
      "WARNING: The TensorFlow contrib module will not be included in TensorFlow 2.0.\n",
      "For more information, please see:\n",
      "  * https://github.com/tensorflow/community/blob/master/rfcs/20180907-contrib-sunset.md\n",
      "  * https://github.com/tensorflow/addons\n",
      "If you depend on functionality not listed there, please file an issue.\n",
      "\n",
      "WARNING:tensorflow:From /home/user/.local/lib/python3.6/site-packages/tensorflow/python/ops/math_ops.py:3066: to_int32 (from tensorflow.python.ops.math_ops) is deprecated and will be removed in a future version.\n",
      "Instructions for updating:\n",
      "Use tf.cast instead.\n",
      "Iter: 0, Loss: 9.373e+03, Time: 0.58\n",
      "Iter: 1000, Loss: 9.275e+01, Time: 6.35\n",
      "Iter: 2000, Loss: 4.700e+01, Time: 6.41\n",
      "Iter: 3000, Loss: 3.469e+01, Time: 6.58\n",
      "Iter: 4000, Loss: 2.937e+01, Time: 6.97\n",
      "Iter: 5000, Loss: 2.533e+01, Time: 7.97\n",
      "Iter: 6000, Loss: 2.080e+01, Time: 6.41\n",
      "Iter: 7000, Loss: 1.831e+01, Time: 6.23\n",
      "Iter: 8000, Loss: 1.740e+01, Time: 6.21\n",
      "Iter: 9000, Loss: 1.668e+01, Time: 6.21\n",
      "Iter: 10000, Loss: 1.608e+01, Time: 6.21\n",
      "Iter: 11000, Loss: 1.532e+01, Time: 6.21\n",
      "Iter: 12000, Loss: 1.488e+01, Time: 6.48\n",
      "Iter: 13000, Loss: 1.456e+01, Time: 6.60\n",
      "Iter: 14000, Loss: 1.430e+01, Time: 6.37\n",
      "Iter: 15000, Loss: 1.406e+01, Time: 6.53\n",
      "Iter: 16000, Loss: 1.386e+01, Time: 6.48\n",
      "Iter: 17000, Loss: 1.369e+01, Time: 6.43\n",
      "Iter: 18000, Loss: 1.356e+01, Time: 6.43\n",
      "Iter: 19000, Loss: 1.346e+01, Time: 6.42\n",
      "Iter: 20000, Loss: 1.336e+01, Time: 6.36\n",
      "Iter: 21000, Loss: 1.326e+01, Time: 6.39\n",
      "Iter: 22000, Loss: 1.318e+01, Time: 6.48\n",
      "Iter: 23000, Loss: 1.312e+01, Time: 6.43\n",
      "Iter: 24000, Loss: 1.307e+01, Time: 6.38\n",
      "Iter: 25000, Loss: 1.302e+01, Time: 6.35\n",
      "Iter: 26000, Loss: 1.299e+01, Time: 6.47\n",
      "Iter: 27000, Loss: 1.295e+01, Time: 6.51\n",
      "Iter: 28000, Loss: 1.294e+01, Time: 6.43\n",
      "Iter: 29000, Loss: 1.289e+01, Time: 6.45\n"
     ]
    }
   ],
   "source": [
    "    # Training\n",
    "    model = PINN(P_back_train, x_train, P_train, rho_train, u_train, E_train, layers)\n",
    "    model.train(30000) #iterations"
   ]
  },
  {
   "cell_type": "markdown",
   "metadata": {},
   "source": [
    "**model = NN(..,..** passes the necessary training data to the _'NN'_ class (__model__ here being an instance of the NN class) so as to initialize all the parameters as well as the Neural network architecture including random initialization of weights and biases.\n",
    "\n"
   ]
  },
  {
   "cell_type": "markdown",
   "metadata": {},
   "source": [
    "### Test the neural network performance using Test dataset:"
   ]
  },
  {
   "cell_type": "code",
   "execution_count": 17,
   "metadata": {},
   "outputs": [
    {
     "name": "stdout",
     "output_type": "stream",
     "text": [
      "Test Error in P: 0.02019741425152374\n",
      "Test Error in rho: 0.012476594871237482\n",
      "Test Error in u: 0.042600433980556164\n",
      "Test Error in E: 0.007650041160460626\n"
     ]
    }
   ],
   "source": [
    "    # Test Data\n",
    "    data1 = data\n",
    "    data1 = np.delete(data1, A, 0)\n",
    "\n",
    "    # x\n",
    "    P_back_test = data1[:,1:2].flatten()[:,None]\n",
    "    x_test = data1[:,0:1].flatten()[:,None]\n",
    "    # y\n",
    "    P_test = data1[:,2:3].flatten()[:,None]\n",
    "    rho_test = data1[:,6:7].flatten()[:,None]\n",
    "    u_test = data1[:,7:8].flatten()[:,None]\n",
    "    E_test = data1[:,8:9].flatten()[:,None]\n",
    "\n",
    "    # Prediction\n",
    "    P_pred, rho_pred, u_pred, E_pred  = model.predict(P_back_test, x_test)\n",
    "    \n",
    "    # Error\n",
    "    error_P = np.linalg.norm(P_test-P_pred,2)/np.linalg.norm(P_test,2)\n",
    "    print(\"Test Error in P: \"+str(error_P))\n",
    "    error_rho = np.linalg.norm(rho_test-rho_pred,2)/np.linalg.norm(rho_test,2)\n",
    "    print(\"Test Error in rho: \"+str(error_rho))\n",
    "    error_u = np.linalg.norm(u_test-u_pred,2)/np.linalg.norm(u_test,2)\n",
    "    print(\"Test Error in u: \"+str(error_u))\n",
    "    error_E = np.linalg.norm(E_test-E_pred,2)/np.linalg.norm(E_test,2)\n",
    "    print(\"Test Error in E: \"+str(error_E))"
   ]
  },
  {
   "cell_type": "markdown",
   "metadata": {},
   "source": [
    "The test dataset **data1** is generated by eliminating the initally randomly selected rows from the __data__. The test dataset data1 is then sliced to get test parameter values.\n",
    "\n",
    "The input parameters of the test set are used to predict the pressure, density, speed and specific energy for the given back pressure and x by using the __.predict__ method.\n",
    "\n",
    "Normal relative error is printed respectively to guage performance on each variable."
   ]
  },
  {
   "cell_type": "markdown",
   "metadata": {},
   "source": [
    "### Visualize and compare the results against CFD generated outputs:"
   ]
  },
  {
   "cell_type": "code",
   "execution_count": 18,
   "metadata": {},
   "outputs": [
    {
     "data": {
      "image/png": "[encoded data removed]",
      "text/plain": [
       "<Figure size 432x288 with 1 Axes>"
      ]
     },
     "metadata": {
      "needs_background": "light"
     },
     "output_type": "display_data"
    },
    {
     "data": {
      "image/png": "[encoded data removed]",
      "text/plain": [
       "<Figure size 432x288 with 1 Axes>"
      ]
     },
     "metadata": {
      "needs_background": "light"
     },
     "output_type": "display_data"
    },
    {
     "data": {
      "image/png": "[encoded data removed]",
      "text/plain": [
       "<Figure size 432x288 with 1 Axes>"
      ]
     },
     "metadata": {
      "needs_background": "light"
     },
     "output_type": "display_data"
    },
    {
     "data": {
      "image/png": "[encoded data removed]",
      "text/plain": [
       "<Figure size 432x288 with 1 Axes>"
      ]
     },
     "metadata": {
      "needs_background": "light"
     },
     "output_type": "display_data"
    }
   ],
   "source": [
    "    #Plotting\n",
    "    data_plt_1 = range(300, 400)\n",
    "    data_plt_2 = range(1300, 1400)\n",
    "    data_plt_3 = range(2300, 2400)\n",
    "    data_plt_4 = range(3300, 3400)\n",
    "    data_plt_5 = range(4300, 4400)\n",
    "    data_plt_6 = range(5300, 5400)\n",
    "    data_plt = list(data_plt_1) + list(data_plt_2) + list(data_plt_3) + list(data_plt_4) + list(data_plt_5) + list(data_plt_6)\n",
    "    # x\n",
    "    x_test_plt = data[data_plt, 0:1].flatten()[:,None]\n",
    "    P_back_test_plt = data[data_plt, 1:2].flatten()[:,None]\n",
    "    # y\n",
    "    P_test_plt = data[data_plt, 2:3].flatten()[:,None]\n",
    "    rho_test_plt = data[data_plt, 6:7].flatten()[:,None]\n",
    "    u_test_plt = data[data_plt, 7:8].flatten()[:,None]\n",
    "    E_test_plt = data[data_plt, 8:9].flatten()[:,None]\n",
    "    # predict\n",
    "    P_pred_plt, rho_pred_plt, u_pred_plt, E_pred_plt = model.predict(P_back_test_plt, x_test_plt)\n",
    "    # plot P\n",
    "    plt.plot(x_test_plt[0:100]/100.0, P_pred_plt[0:100], 'cx', x_test_plt[100:200]/100.0, P_pred_plt[100:200], 'cx',\n",
    "        x_test_plt[200:300]/100.0, P_pred_plt[200:300], 'cx', x_test_plt[300:400]/100.0, P_pred_plt[300:400], 'cx',\n",
    "        x_test_plt[400:500]/100.0, P_pred_plt[400:500], 'cx', x_test_plt[500:600]/100.0, P_pred_plt[500:600], 'cx', label='NN')\n",
    "    plt.plot(x_test_plt[0:100]/100.0, P_test_plt[0:100], 'g--', x_test_plt[100:200]/100.0, P_test_plt[100:200], 'g--',\n",
    "        x_test_plt[200:300]/100.0, P_test_plt[200:300], 'g--', x_test_plt[300:400]/100.0, P_test_plt[300:400], 'g--',\n",
    "        x_test_plt[400:500]/100.0, P_test_plt[400:500], 'g--', x_test_plt[500:600]/100.0, P_test_plt[500:600], 'g--', label='CFD')\n",
    "    plt.legend()\n",
    "    plt.title('Comparison of Neural Network and CFD')\n",
    "    plt.xlabel('Length of nozzle')\n",
    "    plt.ylabel('Pressure*')\n",
    "    plt.show()\n",
    "    # plot rho\n",
    "    plt.plot(x_test_plt[0:100]/100.0, rho_pred_plt[0:100], 'mx', x_test_plt[100:200]/100.0, rho_pred_plt[100:200], 'mx',\n",
    "        x_test_plt[200:300]/100.0, rho_pred_plt[200:300], 'mx', x_test_plt[300:400]/100.0, rho_pred_plt[300:400], 'mx',\n",
    "        x_test_plt[400:500]/100.0, rho_pred_plt[400:500], 'mx', x_test_plt[500:600]/100.0, rho_pred_plt[500:600], 'mx', label='NN')\n",
    "    plt.plot(x_test_plt[0:100]/100.0, rho_test_plt[0:100], 'g--', x_test_plt[100:200]/100.0, rho_test_plt[100:200], 'g--',\n",
    "        x_test_plt[200:300]/100.0, rho_test_plt[200:300], 'g--', x_test_plt[300:400]/100.0, rho_test_plt[300:400], 'g--',\n",
    "        x_test_plt[400:500]/100.0, rho_test_plt[400:500], 'g--', x_test_plt[500:600]/100.0, rho_test_plt[500:600], 'g--', label='CFD')\n",
    "    plt.legend()\n",
    "    plt.title('Comparison of Neural Network and CFD')\n",
    "    plt.xlabel('Length of nozzle')\n",
    "    plt.ylabel('rho')\n",
    "    plt.show()\n",
    "    # plot u\n",
    "    plt.plot(x_test_plt[0:100]/100.0, u_pred_plt[0:100], 'yx', x_test_plt[100:200]/100.0, u_pred_plt[100:200], 'yx',\n",
    "        x_test_plt[200:300]/100.0, u_pred_plt[200:300], 'yx', x_test_plt[300:400]/100.0, u_pred_plt[300:400], 'yx',\n",
    "        x_test_plt[400:500]/100.0, u_pred_plt[400:500], 'yx', x_test_plt[500:600]/100.0, u_pred_plt[500:600], 'yx', label='NN')\n",
    "    plt.plot(x_test_plt[0:100]/100.0, u_test_plt[0:100], 'g--', x_test_plt[100:200]/100.0, u_test_plt[100:200], 'g--',\n",
    "        x_test_plt[200:300]/100.0, u_test_plt[200:300], 'g--', x_test_plt[300:400]/100.0, u_test_plt[300:400], 'g--',\n",
    "        x_test_plt[400:500]/100.0, u_test_plt[400:500], 'g--', x_test_plt[500:600]/100.0, u_test_plt[500:600], 'g--', label='CFD')\n",
    "    plt.legend()\n",
    "    plt.title('Comparison of Neural Network and CFD')\n",
    "    plt.xlabel('Length of nozzle')\n",
    "    plt.ylabel('u')\n",
    "    plt.show()\n",
    "    # plot E\n",
    "    plt.plot(x_test_plt[0:100]/100.0, E_pred_plt[0:100], 'kx', x_test_plt[100:200]/100.0, E_pred_plt[100:200], 'kx',\n",
    "        x_test_plt[200:300]/100.0, E_pred_plt[200:300], 'kx', x_test_plt[300:400]/100.0, E_pred_plt[300:400], 'kx',\n",
    "        x_test_plt[400:500]/100.0, E_pred_plt[400:500], 'kx', x_test_plt[500:600]/100.0, E_pred_plt[500:600], 'kx', label='NN')\n",
    "    plt.plot(x_test_plt[0:100]/100.0, E_test_plt[0:100], 'g--', x_test_plt[100:200]/100.0, E_test_plt[100:200], 'g--',\n",
    "        x_test_plt[200:300]/100.0, E_test_plt[200:300], 'g--', x_test_plt[300:400]/100.0, E_test_plt[300:400], 'g--',\n",
    "        x_test_plt[400:500]/100.0, E_test_plt[400:500], 'g--', x_test_plt[500:600]/100.0, E_test_plt[500:600], 'g--', label='CFD')\n",
    "    plt.legend()\n",
    "    plt.title('Comparison of Neural Network and CFD')\n",
    "    plt.xlabel('Length of nozzle')\n",
    "    plt.ylabel('E')\n",
    "    plt.show()"
   ]
  },
  {
   "cell_type": "markdown",
   "metadata": {},
   "source": [
    "*plt_u and plt_l are the upper and lower bounds of a visualizaing window respectively. This defines a specific set of inputs for which the results will be plotted (it is impossible to visualize all 6100 data points at the same time).*\n",
    "\n",
    "Again, we predict the output values for the specific input window. We now plot the predicted ouputs by the network against the actual ground truth values by CFD using MatPlotlib."
   ]
  },
  {
   "cell_type": "markdown",
   "metadata": {},
   "source": [
    "## That is it! Play with parameters and see the results.."
   ]
  },
  {
   "cell_type": "markdown",
   "metadata": {},
   "source": [
    "# THANK YOU"
   ]
  }
 ],
 "metadata": {
  "kernelspec": {
   "display_name": "Python 3",
   "language": "python3",
   "name": "python3"
  },
  "language_info": {
   "codemirror_mode": {
    "name": "ipython",
    "version": 3
   },
   "file_extension": ".py",
   "mimetype": "text/x-python",
   "name": "python",
   "nbconvert_exporter": "python",
   "pygments_lexer": "ipython3",
   "version": "3.6.7"
  }
 },
 "nbformat": 4,
 "nbformat_minor": 2
}
